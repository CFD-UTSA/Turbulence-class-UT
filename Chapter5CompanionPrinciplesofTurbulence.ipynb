{
 "cells": [
  {
   "cell_type": "markdown",
   "id": "e05eb112",
   "metadata": {},
   "source": [
    "# Chapter 5: Favre-Averaged  Equations ( Companion Notebook)\n",
    "\n",
    "**This notebook is companion notebook for Chapter 5**"
   ]
  },
  {
   "cell_type": "code",
   "execution_count": 20,
   "id": "4faea007",
   "metadata": {},
   "outputs": [
    {
     "data": {
      "text/markdown": [
       "\n",
       "### Table of Contents (Chapter 5 — Favre Averaging)\n",
       "\n",
       "5.1 [Favre Decomposition and Averages](#51-favre-decomposition-and-averages)   \n",
       "\n",
       "5.2 [Favre-Averaged (Compressible) RANS: Continuity, Momentum, Energy](#52-favre-averaged-compressible-rans-continuity-momentum-energy)  \n",
       "\n",
       "5.3 [Worked Examples](#55-worked-examples)  \n",
       " NB 5.1 [Example NB 5.1: Reynolds vs Favre means on a synthetic compressible field](#nb51-synthetic-compressible-field--favre-vs-reynolds-means)  \n",
       " NB 5.2 [Example NB 5.2 Isotropic turbulence — Favre TKE](#nb52-favre-stress-and-heat-flux-from-dataset)  \n",
       " NB 5.3 [Example NB 5.3 Density-driven plume — synthetic dataset and TKE production](#nb53-reynolds-vs-favre-tke--isotropic-compressible-simulation)  \n",
       "   \n",
       "\n",
       "5.4 [Homework — Favre Averaging & Compressible Effects](#56-homework-and-extensions)\n"
      ],
      "text/plain": [
       "<IPython.core.display.Markdown object>"
      ]
     },
     "metadata": {},
     "output_type": "display_data"
    },
    {
     "name": "stdout",
     "output_type": "stream",
     "text": [
      "\n",
      "# ---- Paste these above your headings ----\n",
      "\n",
      "## 5.1 Favre Decomposition and Averages\n",
      "<a id=\"51-favre-decomposition-and-averages\"></a>\n",
      "\n",
      "### 5.1.1 Definitions and Properties of Favre Averaging\n",
      "<a id=\"511-definitions-and-properties-of-favre-averaging\"></a>\n",
      "\n",
      "### 5.1.2 Relation to Reynolds Averages\n",
      "<a id=\"512-relation-to-reynolds-averages\"></a>\n",
      "\n",
      "### 5.1.3 Favre Fluctuations and Identities\n",
      "<a id=\"513-favre-fluctuations-and-identities\"></a>\n",
      "\n",
      "## 5.2 Favre-Averaged (Compressible) RANS: Continuity, Momentum, Energy\n",
      "<a id=\"52-favre-averaged-compressible-rans-continuity-momentum-energy\"></a>\n",
      "\n",
      "## 5.3 Favre Stresses, Heat Fluxes, and Scalar Transport\n",
      "<a id=\"53-favre-stresses-heat-fluxes-and-scalar-transport\"></a>\n",
      "\n",
      "## 5.4 Datasets — Compressible Synthetic, Variable-Density, Isotropic\n",
      "<a id=\"54-datasets--compressible-synthetic-variable-density-isotropic\"></a>\n",
      "\n",
      "### 5.4.1 Description of Datasets\n",
      "<a id=\"541-description-of-datasets\"></a>\n",
      "\n",
      "### 5.4.2 Utility Modules and Usage\n",
      "<a id=\"542-utility-modules-and-usage\"></a>\n",
      "\n",
      "## 5.5 Worked Examples\n",
      "<a id=\"55-worked-examples\"></a>\n",
      "\n",
      "### NB 5.1 Synthetic Compressible Field — Favre vs Reynolds Means\n",
      "<a id=\"nb51-synthetic-compressible-field--favre-vs-reynolds-means\"></a>\n",
      "\n",
      "### NB 5.2 Favre Stress and Heat Flux from Dataset\n",
      "<a id=\"nb52-favre-stress-and-heat-flux-from-dataset\"></a>\n",
      "\n",
      "### NB 5.3 Reynolds vs Favre TKE — Isotropic Compressible Simulation\n",
      "<a id=\"nb53-reynolds-vs-favre-tke--isotropic-compressible-simulation\"></a>\n",
      "\n",
      "### NB 5.4 Compressible Mixing-Length — Constant vs Variable Pr_t\n",
      "<a id=\"nb54-compressible-mixing-length--constant-vs-variable-pr_t\"></a>\n",
      "\n",
      "### NB 5.5 Variable-Density Jet/Plume — Fluxes and TKE Balance\n",
      "<a id=\"nb55-variable-density-jetplume--fluxes-and-tke-balance\"></a>\n",
      "\n",
      "### NB 5.6 Favre Statistics under Controlled ρ–q² Correlation\n",
      "<a id=\"nb56-favre-statistics-under-controlled-rho-q2-correlation\"></a>\n",
      "\n",
      "### NB 5.7 Exporting Figures and Tables\n",
      "<a id=\"nb57-exporting-figures-and-tables\"></a>\n",
      "\n",
      "## 5.6 Homework and Extensions\n",
      "<a id=\"56-homework-and-extensions\"></a>\n",
      "\n"
     ]
    }
   ],
   "source": [
    "# --- HARD-CODED TOC for Chapter 5 (Favre Averaging) — with anchor IDs ---\n",
    "# HOW TO USE:\n",
    "# 1) Paste the printed <a id=\"...\"></a> lines immediately ABOVE the matching markdown headings.\n",
    "# 2) Run this cell to render the clickable TOC that jumps to those cells.\n",
    "\n",
    "from IPython.display import Markdown, display\n",
    "\n",
    "toc_md = r\"\"\"\n",
    "### Table of Contents (Chapter 5 — Favre Averaging)\n",
    "\n",
    "5.1 [Favre Decomposition and Averages](#51-favre-decomposition-and-averages)   \n",
    "\n",
    "5.2 [Favre-Averaged (Compressible) RANS: Continuity, Momentum, Energy](#52-favre-averaged-compressible-rans-continuity-momentum-energy)  \n",
    "\n",
    "5.3 [Worked Examples](#55-worked-examples)  \n",
    " NB 5.1 [Example NB 5.1: Reynolds vs Favre means on a synthetic compressible field](#nb51-synthetic-compressible-field--favre-vs-reynolds-means)  \n",
    " NB 5.2 [Example NB 5.2 Isotropic turbulence — Favre TKE](#nb52-favre-stress-and-heat-flux-from-dataset)  \n",
    " NB 5.3 [Example NB 5.3 Density-driven plume — synthetic dataset and TKE production](#nb53-reynolds-vs-favre-tke--isotropic-compressible-simulation)  \n",
    "   \n",
    "\n",
    "5.4 [Homework — Favre Averaging & Compressible Effects](#56-homework-and-extensions)\n",
    "\"\"\"\n",
    "\n",
    "display(Markdown(toc_md))\n",
    "\n",
    "# --- COPY/PASTE these anchor tags ABOVE the corresponding section headings ---\n",
    "\n",
    "anchors = [\n",
    "    # 5.1*\n",
    "    (\"51-favre-decomposition-and-averages\", \"## 5.1 Favre Decomposition and Averages\"),\n",
    "    (\"511-definitions-and-properties-of-favre-averaging\", \"### 5.1.1 Definitions and Properties of Favre Averaging\"),\n",
    "    (\"512-relation-to-reynolds-averages\", \"### 5.1.2 Relation to Reynolds Averages\"),\n",
    "    (\"513-favre-fluctuations-and-identities\", \"### 5.1.3 Favre Fluctuations and Identities\"),\n",
    "    # 5.2*\n",
    "    (\"52-favre-averaged-compressible-rans-continuity-momentum-energy\", \"## 5.2 Favre-Averaged (Compressible) RANS: Continuity, Momentum, Energy\"),\n",
    "    # 5.3*\n",
    "    (\"53-favre-stresses-heat-fluxes-and-scalar-transport\", \"## 5.3 Favre Stresses, Heat Fluxes, and Scalar Transport\"),\n",
    "    # 5.4*\n",
    "    (\"54-datasets--compressible-synthetic-variable-density-isotropic\", \"## 5.4 Datasets — Compressible Synthetic, Variable-Density, Isotropic\"),\n",
    "    (\"541-description-of-datasets\", \"### 5.4.1 Description of Datasets\"),\n",
    "    (\"542-utility-modules-and-usage\", \"### 5.4.2 Utility Modules and Usage\"),\n",
    "    # 5.5 Worked Examples\n",
    "    (\"55-worked-examples\", \"## 5.5 Worked Examples\"),\n",
    "    (\"nb51-synthetic-compressible-field--favre-vs-reynolds-means\", \"### NB 5.1 Synthetic Compressible Field — Favre vs Reynolds Means\"),\n",
    "    (\"nb52-favre-stress-and-heat-flux-from-dataset\", \"### NB 5.2 Favre Stress and Heat Flux from Dataset\"),\n",
    "    (\"nb53-reynolds-vs-favre-tke--isotropic-compressible-simulation\", \"### NB 5.3 Reynolds vs Favre TKE — Isotropic Compressible Simulation\"),\n",
    "    (\"nb54-compressible-mixing-length--constant-vs-variable-pr_t\", \"### NB 5.4 Compressible Mixing-Length — Constant vs Variable Pr_t\"),\n",
    "    (\"nb55-variable-density-jetplume--fluxes-and-tke-balance\", \"### NB 5.5 Variable-Density Jet/Plume — Fluxes and TKE Balance\"),\n",
    "    (\"nb56-favre-statistics-under-controlled-rho-q2-correlation\", \"### NB 5.6 Favre Statistics under Controlled ρ–q² Correlation\"),\n",
    "    (\"nb57-exporting-figures-and-tables\", \"### NB 5.7 Exporting Figures and Tables\"),\n",
    "    # 5.6\n",
    "    (\"56-homework-and-extensions\", \"## 5.6 Homework and Extensions\"),\n",
    "]\n",
    "\n",
    "print(\"\\n# ---- Paste these above your headings ----\\n\")\n",
    "for aid, heading in anchors:\n",
    "    print(f'{heading}\\n<a id=\"{aid}\"></a>\\n')\n"
   ]
  },
  {
   "cell_type": "markdown",
   "id": "32fa9a51",
   "metadata": {},
   "source": [
    "Favre averaging definitions, decomposition, FANS equations, interactive demos, isotropic Favre TKE, and a density-driven plume dataset for TKE production."
   ]
  },
  {
   "cell_type": "markdown",
   "id": "dfcc273f",
   "metadata": {},
   "source": [
    "## 5.1 Favre Decomposition and Averages\n",
    "<a id=\"51-favre-decomposition-and-averages\"></a>\n",
    "Reynolds: $\\phi=\\overline{\\phi}+\\phi'$, $\\overline{\\phi'}=0$.\n",
    "Favre: $\\phi=\\tilde{\\phi}+\\phi''$, with $\\tilde{\\phi}=\\overline{\\rho\\phi}/\\overline{\\rho}$ and $\\overline{\\rho\\,\\phi''}=0$.\n",
    "Useful: $\\overline{\\rho\\phi}=\\overline{\\rho}\\,\\tilde{\\phi}$."
   ]
  },
  {
   "cell_type": "markdown",
   "id": "c0d47918",
   "metadata": {},
   "source": [
    "## 5.2. Favre-averaged equations \n",
    "Mass: $\\partial_t\\overline{\\rho}+\\partial_j(\\overline{\\rho}\\tilde{u}_j)=0$.\n",
    "Momentum: $\\partial_t(\\overline{\\rho}\\tilde{u}_i)+\\partial_j(\\overline{\\rho}\\tilde{u}_i\\tilde{u}_j)=-\\partial_i\\overline{p}+\\partial_j\\overline{\\tau}_{ij}-\\partial_j(\\overline{\\rho}\\widetilde{u_i''u_j''})$.\n",
    "(Representative) Energy written with total enthalpy fluxes and turbulent transport terms."
   ]
  },
  {
   "cell_type": "code",
   "execution_count": 15,
   "id": "ef923cf0",
   "metadata": {},
   "outputs": [
    {
     "name": "stdout",
     "output_type": "stream",
     "text": [
      "Setup OK\n"
     ]
    }
   ],
   "source": [
    "import numpy as np, pandas as pd, matplotlib.pyplot as plt\n",
    "from ipywidgets import interact, IntSlider, FloatSlider\n",
    "import favre_tools as ft\n",
    "print(\"Setup OK\")"
   ]
  },
  {
   "cell_type": "markdown",
   "id": "e55b04b4",
   "metadata": {},
   "source": [
    "## 5.3 Examples\n",
    "\n",
    "# NB 5.1: Reynolds vs Favre means on a synthetic compressible field"
   ]
  },
  {
   "cell_type": "code",
   "execution_count": 6,
   "id": "3291922f",
   "metadata": {},
   "outputs": [],
   "source": [
    "# =============================================================================\n",
    "# Notebook Cell: Reynolds vs. Favre (Density-Weighted) Averages — Interactive Demo\n",
    "# -----------------------------------------------------------------------------\n",
    "# Purpose\n",
    "#   This interactive cell illustrates the distinction between the Reynolds mean (ū)\n",
    "#   and the Favre mean (u~) using a smooth synthetic 1D compressible field. It also\n",
    "#   reports the Favre normal stress ( ρ̄ u''u'' ) computed via the provided utilities.\n",
    "#\n",
    "# What this cell does\n",
    "#   • Generates synthetic fields ρ(x), u(x), T(x) on x ∈ [0, 2π] with tunable amplitudes.\n",
    "#   • Computes ū = <u>, u~ = <ρu>/<ρ>, ρ̄ = <ρ>, and ρ̄ u''u'' via your utility functions.\n",
    "#   • Plots u(x) and overlays horizontal lines for ū and u~ to visualize their difference.\n",
    "#\n",
    "# Interactive controls (sliders)\n",
    "#   • n (points):          grid resolution (sampling density).\n",
    "#   • ρ amp:               density fluctuation amplitude; increases compressibility effects.\n",
    "#   • u amp:               velocity fluctuation amplitude; controls fluctuation strength.\n",
    "#   • noise σ:             additive Gaussian noise level for robustness/sensitivity checks.\n",
    "#\n",
    "# Expected observations\n",
    "#   • When ρ is uniform (ρ amp ≈ 0), ū and u~ coincide to numerical tolerance.\n",
    "#   • As ρ fluctuations increase, u~ departs from ū; the gap reflects density weighting.\n",
    "#   • The reported ρ̄ u''u'' increases with u amp and can be affected by noise σ.\n",
    "#\n",
    "# Suggested student tasks\n",
    "#   1) Start with ρ amp = 0 and confirm ū ≈ u~; then increase ρ amp and describe the trend.\n",
    "#   2) Fix ρ amp and vary u amp; discuss how fluctuation strength affects ρ̄ u''u''.\n",
    "#   3) Add small noise σ (e.g., 0.05) and comment on the stability of the means and stress.\n",
    "#\n",
    "# Data and utilities\n",
    "#   • The synthetic field combines a few low-order Fourier modes for smooth periodic signals.\n",
    "#   • This cell expects a module alias `ft` exposing:\n",
    "#       ft.reynolds_avg(u), ft.favre_avg(rho, u), ft.favre_stress(rho, u).\n",
    "#     (If your utilities are in `chapter4_util.py`, use `import chapter4_util as ft`.)\n",
    "#\n",
    "# Output summary (printed each run)\n",
    "#   ū, u~, ρ̄, and ρ̄ u''u'' are printed in a single line for quick comparison.\n",
    "#\n",
    "# Notes\n",
    "#   • Keep the focus on interpretation (signs, magnitudes, and dependence on amplitudes),\n",
    "#     not on derivations; governing equations are covered in the main text.\n",
    "#   • This cell is intended as a short, self-contained exploratory activity.\n",
    "# =============================================================================\n"
   ]
  },
  {
   "cell_type": "code",
   "execution_count": 2,
   "id": "27c8438a",
   "metadata": {},
   "outputs": [
    {
     "data": {
      "application/vnd.jupyter.widget-view+json": {
       "model_id": "ef6afd7717f747f48552610917568446",
       "version_major": 2,
       "version_minor": 0
      },
      "text/plain": [
       "interactive(children=(IntSlider(value=400, description='n', max=1200, min=100, step=50), FloatSlider(value=0.5…"
      ]
     },
     "metadata": {},
     "output_type": "display_data"
    }
   ],
   "source": [
    "def synthetic_field(n=400, amp_rho=0.5, amp_u=0.5, amp_T=0.2, noise=0.0, seed=1):\n",
    "    rng = np.random.default_rng(seed)\n",
    "    x = np.linspace(0, 2*np.pi, int(n))\n",
    "    rho = 1.0 + amp_rho*np.sin(x) + 0.1*np.cos(2*x)\n",
    "    u   = 10.0 + 2.0*np.sin(x + 0.8) + amp_u*np.cos(3*x)\n",
    "    T   = 300.0 + 20.0*np.cos(x-0.4) + amp_T*np.sin(2*x)\n",
    "    if noise>0:\n",
    "        rho += noise*rng.standard_normal(rho.shape); u += noise*rng.standard_normal(u.shape); T += noise*rng.standard_normal(T.shape)\n",
    "    return x, rho, u, T\n",
    "\n",
    "def compare_averages(n=400, amp_rho=0.5, amp_u=0.5, noise=0.0):\n",
    "    x, rho, u, T = synthetic_field(n=n, amp_rho=amp_rho, amp_u=amp_u, noise=noise)\n",
    "    u_bar = ft.reynolds_avg(u); u_tilde = ft.favre_avg(rho, u); rho_bar=np.mean(rho); favre_stress=ft.favre_stress(rho,u)\n",
    "    print(f\"ū={u_bar:.4f}, u~={u_tilde:.4f}, ρ̄={rho_bar:.4f}, ȓ u''u''={favre_stress:.4f}\")\n",
    "    plt.figure(); plt.plot(x,u); plt.axhline(u_bar,ls='--'); plt.axhline(u_tilde,ls='-.'); plt.xlabel('x'); plt.ylabel('u'); plt.title('Reynolds vs Favre mean'); plt.show()\n",
    "\n",
    "interact(compare_averages,\n",
    "         n=IntSlider(value=400, min=100, max=1200, step=50, description=\"n\"),\n",
    "         amp_rho=FloatSlider(value=0.5, min=0.0, max=1.5, step=0.05, description=\"ρ amp\"),\n",
    "         amp_u=FloatSlider(value=0.5, min=0.0, max=1.5, step=0.05, description=\"u amp\"),\n",
    "         noise=FloatSlider(value=0.0, min=0.0, max=0.5, step=0.01, description=\"noise\"),\n",
    ");"
   ]
  },
  {
   "cell_type": "markdown",
   "id": "39313108",
   "metadata": {},
   "source": [
    "# Example NB 5.2 Isotropic turbulence — Favre TKE"
   ]
  },
  {
   "cell_type": "code",
   "execution_count": 8,
   "id": "cfdfad84",
   "metadata": {},
   "outputs": [],
   "source": [
    "\n",
    "# =============================================================================\n",
    "# Reynolds vs Favre TKE in isotropic turbulence — stochastic comparison\n",
    "# -----------------------------------------------------------------------------\n",
    "# Intent\n",
    "#   Generate an isotropic Gaussian velocity field and a fluctuating density field,\n",
    "#   then compare turbulent kinetic energy computed with ordinary (Reynolds) vs\n",
    "#   density-weighted (Favre) averaging. The goal is to see when and why the\n",
    "#   density-weighted TKE departs from the Reynolds TKE.\n",
    "#\n",
    "# What the simulator varies\n",
    "#   • N:     number of Monte-Carlo samples (precision of estimates).\n",
    "#   • u_rms: velocity fluctuation scale (sets overall energy level).\n",
    "#   • Mt:    sets the amplitude of density fluctuations (a compressibility proxy).\n",
    "#   • ρ0:    base density about which density fluctuates.\n",
    "#   • corr:  blends two density models: (i) uncorrelated with velocity energy,\n",
    "#            and (ii) positively correlated with instantaneous velocity energy;\n",
    "#            corr=0 ⇒ uncorrelated, corr=1 ⇒ fully correlated.\n",
    "#   • seed:  random number generator seed for reproducibility.\n",
    "#\n",
    "# Outputs\n",
    "#   • Printed summary: mean density, Reynolds TKE (k_R), Favre TKE (k~), and k~/k_R.\n",
    "#   • Bar chart: side-by-side comparison of k_R and k~.\n",
    "#   • Histogram: probability density of ρ (widens with increasing Mt; shifts/shapes\n",
    "#     reflect correlation choice).\n",
    "#\n",
    "# How to interpret\n",
    "#   • If Mt ≈ 0 (negligible density fluctuations), expect k~ ≈ k_R.\n",
    "#   • With finite Mt and corr=0 (density independent of velocity energy), k~ may\n",
    "#     differ modestly from k_R due to density weighting.\n",
    "#   • Increasing corr (> 0) emphasizes high-energy, high-density samples; k~ typically\n",
    "#     exceeds k_R and the ratio k~/k_R increases.\n",
    "#   • Larger N stabilizes estimates; larger u_rms scales both TKE measures similarly.\n",
    "#\n",
    "# Use\n",
    "#   Read the printed k~/k_R and compare across (Mt, corr) to quantify the impact of\n",
    "#   density fluctuations and velocity–density coupling on TKE when using Favre vs\n",
    "#   Reynolds averaging.\n",
    "# =============================================================================\n",
    "# =============================================================================\n",
    "# Variable definitions and meaning for iso_favre_TKE()\n",
    "# -----------------------------------------------------------------------------\n",
    "# u, v, w  → Randomized velocity components (Gaussian-distributed),\n",
    "#             representing isotropic turbulent velocity fluctuations.\n",
    "#\n",
    "# q2       → Local kinetic energy per sample (u² + v² + w²),\n",
    "#             proportional to twice the instantaneous TKE.\n",
    "#\n",
    "# sigma_rho → Standard deviation of density fluctuations, scaled by Mt²·ρ₀.\n",
    "#             Higher Mt (turbulent Mach number) ⇒ larger density variation.\n",
    "#\n",
    "# rho_uncorr → Density field uncorrelated with velocity (random noise around ρ₀).\n",
    "#\n",
    "# rho_corr  → Density field correlated with velocity energy q²:\n",
    "#              samples with higher q² have higher (or lower) density depending on corr.\n",
    "#\n",
    "# rho       → Final density array blended from rho_uncorr and rho_corr.\n",
    "#              corr=0 → uncorrelated, corr=1 → fully correlated with q².\n",
    "#\n",
    "# u_bar, v_bar, w_bar → Mean velocities (Reynolds averages).\n",
    "# rho_bar             → Mean density.\n",
    "#\n",
    "# up, vp, wp → Reynolds velocity fluctuations (u′, v′, w′)\n",
    "#               relative to the simple mean (density not considered).\n",
    "#\n",
    "# u_t, v_t, w_t → Favre-averaged (density-weighted) mean velocities:\n",
    "#                 u~ = <ρu>/<ρ>, etc.\n",
    "#\n",
    "# upp, vpp, wpp → Favre velocity fluctuations (u″, v″, w″)\n",
    "#                 relative to the density-weighted mean.\n",
    "#\n",
    "# k_R  → Reynolds TKE = ½(<u′²> + <v′²> + <w′²>).\n",
    "# k_til → Favre (density-weighted) TKE =\n",
    "#          ½( <ρu″²> + <ρv″²> + <ρw″²> ) / ρ̄.\n",
    "#\n",
    "# ratio k_til/k_R → Indicates how much density weighting amplifies or reduces TKE.\n",
    "#                   ratio ≈ 1 → incompressible (ρ nearly constant),\n",
    "#                   ratio > 1 → Favre weighting gives higher TKE due to density–velocity coupling.\n",
    "# =============================================================================\n"
   ]
  },
  {
   "cell_type": "code",
   "execution_count": 3,
   "id": "308d2b5b",
   "metadata": {
    "scrolled": true
   },
   "outputs": [
    {
     "data": {
      "application/vnd.jupyter.widget-view+json": {
       "model_id": "6370098eb25d4c298eaca28fc3f8b2c9",
       "version_major": 2,
       "version_minor": 0
      },
      "text/plain": [
       "interactive(children=(IntSlider(value=200000, description='N', max=1000000, min=2000, step=2000), FloatSlider(…"
      ]
     },
     "metadata": {},
     "output_type": "display_data"
    }
   ],
   "source": [
    "from ipywidgets import FloatSlider\n",
    "def iso_favre_TKE(N=200000, u_rms=1.0, Mt=0.3, rho0=1.0, corr=0.0, seed=7):\n",
    "    rng = np.random.default_rng(seed)\n",
    "    u = u_rms*rng.standard_normal(N); v = u_rms*rng.standard_normal(N); w = u_rms*rng.standard_normal(N)\n",
    "    q2 = u*u+v*v+w*w\n",
    "    sigma_rho=(Mt**2)*rho0; rho_uncorr = rho0 + sigma_rho*rng.standard_normal(N)\n",
    "    q2c = q2 - np.mean(q2); rho_corr = rho0 + (sigma_rho*q2c/(np.std(q2c)+1e-12))\n",
    "    rho = (1-corr)*rho_uncorr + corr*rho_corr\n",
    "    u_bar=np.mean(u); v_bar=np.mean(v); w_bar=np.mean(w); rho_bar=np.mean(rho)\n",
    "    up=u-u_bar; vp=v-v_bar; wp=w-w_bar\n",
    "    fav = lambda r,a: np.sum(r*a)/np.sum(r); u_t=fav(rho,u); v_t=fav(rho,v); w_t=fav(rho,w)\n",
    "    upp=u-u_t; vpp=v-v_t; wpp=w-w_t\n",
    "    k_R=0.5*(np.mean(up*up)+np.mean(vp*vp)+np.mean(wp*wp))\n",
    "    k_til=0.5*(np.mean(rho*upp*upp)+np.mean(rho*vpp*vpp)+np.mean(rho*wpp*wpp))/rho_bar\n",
    "    print(f\"ρ̄={rho_bar:.3f} | k_R={k_R:.4f} | k~={k_til:.4f} | ratio={k_til/k_R:.3f}\")\n",
    "    plt.figure(); plt.bar(['k_R','k~'],[k_R,k_til]); plt.ylabel('TKE'); plt.title('Reynolds vs Favre TKE'); plt.show()\n",
    "    plt.figure(); plt.hist(rho,bins=60,density=True); plt.xlabel('ρ'); plt.ylabel('PDF'); plt.title('Density PDF'); plt.show()\n",
    "\n",
    "interact(iso_favre_TKE,\n",
    "         N=IntSlider(value=200000, min=2000, max=1000000, step=2000, description=\"N\"),\n",
    "         u_rms=FloatSlider(value=1.0, min=0.1, max=5.0, step=0.1, description=\"u_rms\"),\n",
    "         Mt=FloatSlider(value=0.3, min=0.0, max=1.5, step=0.05, description=\"M_t\"),\n",
    "         rho0=FloatSlider(value=1.0, min=0.5, max=2.0, step=0.05, description=\"ρ0\"),\n",
    "         corr=FloatSlider(value=0.0, min=0.0, max=1.0, step=0.05, description=\"corr\"),\n",
    "         seed=IntSlider(value=7, min=1, max=9999, step=1, description=\"seed\"));"
   ]
  },
  {
   "cell_type": "markdown",
   "id": "226dd83f",
   "metadata": {},
   "source": [
    "## Example NB 5.3 Density-driven plume — synthetic dataset and TKE production"
   ]
  },
  {
   "cell_type": "code",
   "execution_count": 9,
   "id": "b4172c2a",
   "metadata": {},
   "outputs": [],
   "source": [
    "# =============================================================================\n",
    "# Synthetic buoyant plume (axisymmetric, self-similar) \n",
    "# -----------------------------------------------------------------------------\n",
    "# Purpose\n",
    "#   Build a simple centerline model of a density plume rising in quiescent fluid,\n",
    "#   with top-hat/self-similar scalings and mixing-length closures for ν_t and κ_t.\n",
    "#\n",
    "# Inputs (model knobs)\n",
    "#   zmax   : domain height [m]; n : number of samples along z\n",
    "#   rho0   : ambient density [kg/m^3]\n",
    "#   drho0  : initial centerline density deficit Δρ(z=0) = ρ_amb - ρ_center [kg/m^3]\n",
    "#   b0     : initial plume half-width (top-hat radius) at source [m]\n",
    "#   alpha  : entrainment coefficient (growth rate of plume width), b(z) = b0 + α z\n",
    "#   W0     : initial centerline vertical velocity at source [m/s]\n",
    "#   cm     : mixing-length constant (ℓ_m = c_m b)\n",
    "#   Pr_t   : turbulent Prandtl number (κ_t = ν_t / Pr_t)\n",
    "#   beta   : velocity-fluctuation intensity factor (u′ ≈ β W_c ⇒ k ≈ 1.5(β W_c)^2)\n",
    "#   Ceps   : dissipation constant in ε = C_ε k^{3/2} / (c_L b)\n",
    "#   cL     : length-scale coefficient for the dissipation length ℓ_ε ≈ c_L b\n",
    "#\n",
    "# Derived fields (functions of z)\n",
    "#   z      : vertical coordinate [m]\n",
    "#   b      : plume half-width (linear growth via entrainment): b = b0 + α z  [m]\n",
    "#   W_c    : centerline mean vertical velocity from top-hat continuity: W_c = W0 (b0/b)  [m/s]\n",
    "#   Δρ     : centerline density deficit (top-hat decay): Δρ = drho0 (b0/b)^2  [kg/m^3]\n",
    "#   ρ      : centerline density: ρ = ρ0 - Δρ  [kg/m^3]\n",
    "#\n",
    "# Closure quantities\n",
    "#   S      : characteristic shear/strain rate ≈ W_c / b  [1/s]\n",
    "#   ℓ_m    : mixing length: ℓ_m = c_m b  [m]\n",
    "#   ν_t    : eddy viscosity: ν_t = ℓ_m^2 S  [m^2/s]\n",
    "#   κ_t    : eddy diffusivity: κ_t = ν_t / Pr_t  [m^2/s]\n",
    "#   k      : TKE along centerline: k = 1.5 (β W_c)^2  [m^2/s^2]\n",
    "#   ∂ρ/∂z  : vertical density gradient from ρ(z)\n",
    "#\n",
    "# TKE budget terms (centerline, illustrative)\n",
    "#   P_s    : shear production     P_s = ν_t S^2                         [m^2/s^3]\n",
    "#   P_b    : buoyancy production  P_b = (g/ρ0) * ( - κ_t ∂ρ/∂z )        [m^2/s^3]\n",
    "#            (Boussinesq: w′ρ′ ≈ -κ_t ∂ρ/∂z and G_b = (g/ρ0) w′ρ′)\n",
    "#   ε      : dissipation          ε = C_ε k^{3/2} / (c_L b)             [m^2/s^3]\n",
    "#\n",
    "# Output (pandas DataFrame columns)\n",
    "#   z_m, b_m, Wc_m_per_s, rho_kg_per_m3, Delta_rho_kg_per_m3,\n",
    "#   S_1_per_s, lm_m, nu_t_m2_per_s, kappa_t_m2_per_s,\n",
    "#   k_m2_per_s2, P_s_m2_per_s3, P_b_m2_per_s3, epsilon_m2_per_s3\n",
    "#\n",
    "# Notes\n",
    "#   • This is a 1D centerline model; it captures typical z-trends:\n",
    "#       b ↑ linearly, W_c ↓, Δρ ↓, ν_t and κ_t peak then decay with W_c/b.\n",
    "#   • P_b sign depends on ∂ρ/∂z (here usually >0 because density deficit weakens with z).\n",
    "#   • ε scales with k^{3/2} and the local outer scale b.\n",
    "#   • The CSV is saved for plotting/report figures; quick-look plots are generated below.\n",
    "# =============================================================================\n"
   ]
  },
  {
   "cell_type": "code",
   "execution_count": 4,
   "id": "4bc0b5ad",
   "metadata": {
    "scrolled": false
   },
   "outputs": [
    {
     "name": "stdout",
     "output_type": "stream",
     "text": [
      "     z_m   b_m  Wc_m_per_s  rho_kg_per_m3  Delta_rho_kg_per_m3  S_1_per_s  \\\n",
      "0  0.000  1.00    2.000000       0.500000             0.500000   2.000000   \n",
      "1  0.125  1.01    1.980198       0.509852             0.490148   1.960592   \n",
      "2  0.250  1.02    1.960784       0.519416             0.480584   1.922338   \n",
      "3  0.375  1.03    1.941748       0.528702             0.471298   1.885192   \n",
      "4  0.500  1.04    1.923077       0.537722             0.462278   1.849112   \n",
      "\n",
      "     lm_m  nu_t_m2_per_s  kappa_t_m2_per_s  k_m2_per_s2  P_s_m2_per_s3  \\\n",
      "0  0.1200         0.0288             0.032     0.135000       0.115200   \n",
      "1  0.1212         0.0288             0.032     0.132340       0.110705   \n",
      "2  0.1224         0.0288             0.032     0.129758       0.106427   \n",
      "3  0.1236         0.0288             0.032     0.127250       0.102354   \n",
      "4  0.1248         0.0288             0.032     0.124815       0.098473   \n",
      "\n",
      "   P_b_m2_per_s3  epsilon_m2_per_s3  \n",
      "0      -0.024742           0.044642  \n",
      "1      -0.024380           0.042900  \n",
      "2      -0.023670           0.041242  \n",
      "3      -0.022987           0.039664  \n",
      "4      -0.022330           0.038160  \n",
      "Saved Synthetic_DensityPlume_TKE.csv\n"
     ]
    },
    {
     "data": {
      "image/png": "[encoded data removed]",
      "text/plain": [
       "<Figure size 432x288 with 1 Axes>"
      ]
     },
     "metadata": {
      "needs_background": "light"
     },
     "output_type": "display_data"
    },
    {
     "data": {
      "image/png": "[encoded data removed]",
      "text/plain": [
       "<Figure size 432x288 with 1 Axes>"
      ]
     },
     "metadata": {
      "needs_background": "light"
     },
     "output_type": "display_data"
    },
    {
     "data": {
      "image/png": "[encoded data removed]",
      "text/plain": [
       "<Figure size 432x288 with 1 Axes>"
      ]
     },
     "metadata": {
      "needs_background": "light"
     },
     "output_type": "display_data"
    },
    {
     "data": {
      "image/png": "[encoded data removed]",
      "text/plain": [
       "<Figure size 432x288 with 1 Axes>"
      ]
     },
     "metadata": {
      "needs_background": "light"
     },
     "output_type": "display_data"
    },
    {
     "data": {
      "image/png": "[encoded data removed]",
      "text/plain": [
       "<Figure size 432x288 with 1 Axes>"
      ]
     },
     "metadata": {
      "needs_background": "light"
     },
     "output_type": "display_data"
    },
    {
     "data": {
      "image/png": "[encoded data removed]",
      "text/plain": [
       "<Figure size 432x288 with 1 Axes>"
      ]
     },
     "metadata": {
      "needs_background": "light"
     },
     "output_type": "display_data"
    },
    {
     "data": {
      "image/png": "[encoded data removed]",
      "text/plain": [
       "<Figure size 432x288 with 1 Axes>"
      ]
     },
     "metadata": {
      "needs_background": "light"
     },
     "output_type": "display_data"
    }
   ],
   "source": [
    "g=9.81\n",
    "def plume_synthetic(zmax=50.0, n=401, rho0=1.0, drho0=0.5, b0=1.0, alpha=0.08, W0=2.0,\n",
    "                    cm=0.12, Pr_t=0.9, beta=0.15, Ceps=0.9, cL=1.0):\n",
    "    z = np.linspace(0, zmax, int(n)); b=b0+alpha*z; Wc=W0*(b0/b); Drho=drho0*(b0/b)**2; rho=rho0-Drho\n",
    "    S = np.maximum(Wc/np.maximum(b,1e-12),1e-12); lm=cm*b; nu_t=(lm**2)*S; kappa_t=nu_t/Pr_t\n",
    "    k = 1.5*(beta*Wc)**2; d_rho_dz=np.gradient(rho,z); Ps=nu_t*(S**2); Pb=(g/rho0)*(-kappa_t*d_rho_dz); eps=Ceps*(k**1.5)/(cL*np.maximum(b,1e-12))\n",
    "    import pandas as pd\n",
    "    df=pd.DataFrame({\"z_m\":z,\"b_m\":b,\"Wc_m_per_s\":Wc,\"rho_kg_per_m3\":rho,\"Delta_rho_kg_per_m3\":Drho,\n",
    "                     \"S_1_per_s\":S,\"lm_m\":lm,\"nu_t_m2_per_s\":nu_t,\"kappa_t_m2_per_s\":kappa_t,\n",
    "                     \"k_m2_per_s2\":k,\"P_s_m2_per_s3\":Ps,\"P_b_m2_per_s3\":Pb,\"epsilon_m2_per_s3\":eps})\n",
    "    return df\n",
    "\n",
    "df=plume_synthetic(); print(df.head()); df.to_csv(\"Synthetic_DensityPlume_TKE.csv\", index=False); print(\"Saved Synthetic_DensityPlume_TKE.csv\")\n",
    "for x,y,t in [(\"z_m\",\"Wc_m_per_s\",\"Wc\"),(\"z_m\",\"Delta_rho_kg_per_m3\",\"Δρ\"),(\"z_m\",\"nu_t_m2_per_s\",\"ν_t\"),\n",
    "              (\"z_m\",\"k_m2_per_s2\",\"k\"),(\"z_m\",\"P_s_m2_per_s3\",\"P_s\"),(\"z_m\",\"P_b_m2_per_s3\",\"P_b\"),(\"z_m\",\"epsilon_m2_per_s3\",\"ε\")]:\n",
    "    plt.figure(); plt.plot(df[x],df[y]); plt.xlabel(x); plt.ylabel(y); plt.title(t); plt.show()"
   ]
  },
  {
   "cell_type": "markdown",
   "id": "93a61c25",
   "metadata": {},
   "source": [
    "## 5.4. Homework — Favre Averaging & Compressible Effects\n",
    "\n",
    "1) Reynolds vs Favre means under density variation** *(§4)*\n",
    "Fix u‑amplitude=0.5; vary density amplitude amp_ρ∈{0.0,0.5,1.0}.\n",
    "*Deliverables:* Report \\(\\bar{u}\\), \\(\\tilde{u}\\), \\(\\bar{\\rho}\\), and \\(\\bar{\\rho}\\,\\widetilde{u''u''}\\) for each case. Interpret when \\(\\bar{u}\\) and \\(\\tilde{u}\\) diverge.\n",
    "\n",
    "2) Isotropic turbulence — Favre TKE ratio** *(§8)*\n",
    "u_rms=1 m/s, ρ₀=1 kg/m³. Sweep \\(M_t\\)∈{0.0,0.3,0.6,1.0} and corr(ρ,|u|²)∈{0,0.5,1}.\n",
    "*Deliverables:* Plot \\( \\tilde{k}/k_R \\) vs \\(M_t\\) for each corr curve; note how compressibility and correlation shift Favre TKE.\n",
    "\n",
    "3) Density‑driven plume — TKE budget** *(§9)*\n",
    "Baseline: z_max=50 m, b₀=1 m, α=0.08, W₀=2 m/s, Δρ₀=0.5 kg/m³, c_m=0.12, Prₜ=0.9, β=0.15, C_ε=0.9, c_L=1.\n",
    "Vary **α** from 0.05→0.12 and **β** from 0.1→0.25.\n",
    "*Deliverables:* Plots vs z: k, P_s, P_b, ε for all cases. Discuss which parameter boosts production and how the balance (P_s vs P_b vs ε) shifts.\n",
    "*Optional:* Compute imbalance \\(I(z)=P_s+P_b-\\varepsilon\\). Where is |I| largest and why?\n",
    "\n",
    "4) Favre stress vs Reynolds stress in a variable‑ρ jet slice** *(§4, reuse code)*\n",
    "amp_ρ=1.0, amp_u=0.8, noise=0.05.\n",
    "*Deliverables:* Compute \\( \\bar{\\rho}\\overline{u'u'} \\) (constant‑ρ equivalence) and \\( \\bar{\\rho}\\,\\widetilde{u''u''} \\); 3–4 sentence explanation on when the constant‑ρ equivalence is acceptable.\n",
    "\n"
   ]
  },
  {
   "cell_type": "markdown",
   "id": "12937f8f",
   "metadata": {},
   "source": []
  }
 ],
 "metadata": {
  "kernelspec": {
   "display_name": "Python 3",
   "language": "python",
   "name": "python3"
  },
  "language_info": {
   "codemirror_mode": {
    "name": "ipython",
    "version": 3
   },
   "file_extension": ".py",
   "mimetype": "text/x-python",
   "name": "python",
   "nbconvert_exporter": "python",
   "pygments_lexer": "ipython3",
   "version": "3.8.8"
  }
 },
 "nbformat": 4,
 "nbformat_minor": 5
}
